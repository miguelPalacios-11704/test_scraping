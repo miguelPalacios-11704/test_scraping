{
 "cells": [
  {
   "cell_type": "code",
   "execution_count": null,
   "id": "1085cce0-bb10-4053-8dc8-e89d6889bb86",
   "metadata": {},
   "outputs": [],
   "source": [
    "from selenium import webdriver\n",
    "from selenium.webdriver.common.by import By\n",
    "from selenium.webdriver.chrome.options import Options\n",
    "\n",
    "# Configura las opciones de Chrome\n",
    "chrome_options = Options()\n",
    "chrome_options.add_argument(\"--no-sandbox\")\n",
    "chrome_options.add_argument(\"--disable-dev-shm-usage\")\n",
    "\n",
    "# Conéctate al servidor Selenium Grid\n",
    "driver = webdriver.Remote(\n",
    "    command_executor=\"http://selenium-server:4444/wd/hub\",\n",
    "    options=chrome_options\n",
    ")\n",
    "\n",
    "# Abre la página de prueba\n",
    "driver.get(\"https://www.selenium.dev/selenium/web/web-form.html\")"
   ]
  },
  {
   "cell_type": "code",
   "execution_count": null,
   "id": "6b0950ee-4fe8-4ca9-b3c3-9ac2a13ba5e9",
   "metadata": {},
   "outputs": [],
   "source": [
    "from selenium.webdriver.common.keys import Keys\n",
    "\n",
    "# Llena el formulario paso a paso\n",
    "driver.find_element(By.NAME, \"my-text\").send_keys(\"John Doe\")\n",
    "driver.find_element(By.NAME, \"my-password\").send_keys(\"1234\")\n",
    "driver.find_element(By.NAME, \"my-textarea\").send_keys(\"Hola a la clase de fuentes de datos\")\n"
   ]
  },
  {
   "cell_type": "code",
   "execution_count": null,
   "id": "543d7a63-511d-4a35-9245-ba18c8815f6d",
   "metadata": {},
   "outputs": [],
   "source": [
    "driver.find_element(By.ID, \"my-check-1\").click()\n",
    "driver.find_element(By.NAME, \"my-select\").find_element(By.XPATH, \"//option[@value='2']\").click()\n",
    "driver.find_element(By.ID, \"my-radio-1\").click()\n",
    "driver.find_element(By.CSS_SELECTOR, \"button\").click()\n",
    "\n",
    "print(\"Form submitted successfully!\")\n"
   ]
  }
 ],
 "metadata": {
  "kernelspec": {
   "display_name": "Python 3 (ipykernel)",
   "language": "python",
   "name": "python3"
  },
  "language_info": {
   "codemirror_mode": {
    "name": "ipython",
    "version": 3
   },
   "file_extension": ".py",
   "mimetype": "text/x-python",
   "name": "python",
   "nbconvert_exporter": "python",
   "pygments_lexer": "ipython3",
   "version": "3.11.10"
  }
 },
 "nbformat": 4,
 "nbformat_minor": 5
}
